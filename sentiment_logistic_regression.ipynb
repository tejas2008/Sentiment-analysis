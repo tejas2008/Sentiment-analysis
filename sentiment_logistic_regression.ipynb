{
  "nbformat": 4,
  "nbformat_minor": 0,
  "metadata": {
    "colab": {
      "name": "sentiment-logistic-regression.ipynb",
      "provenance": [],
      "collapsed_sections": [],
      "authorship_tag": "ABX9TyNRPwNH+COmXQzZiyNk63IB",
      "include_colab_link": true
    },
    "kernelspec": {
      "name": "python3",
      "display_name": "Python 3"
    }
  },
  "cells": [
    {
      "cell_type": "markdown",
      "metadata": {
        "id": "view-in-github",
        "colab_type": "text"
      },
      "source": [
        "<a href=\"https://colab.research.google.com/github/tejas2008/Sentiment-analysis/blob/master/sentiment_logistic_regression.ipynb\" target=\"_parent\"><img src=\"https://colab.research.google.com/assets/colab-badge.svg\" alt=\"Open In Colab\"/></a>"
      ]
    },
    {
      "cell_type": "code",
      "metadata": {
        "id": "uRgeFA_qzBTi",
        "colab": {
          "base_uri": "https://localhost:8080/"
        },
        "outputId": "5a0fe7d0-da47-4c3c-fa49-9732cc561330"
      },
      "source": [
        "import nltk\n",
        "nltk.download('punkt')\n",
        "from nltk.tokenize import word_tokenize\n",
        "import re\n",
        "from nltk.tokenize import TweetTokenizer\n",
        "tknzr = TweetTokenizer(strip_handles=True)\n",
        "from nltk.stem import PorterStemmer "
      ],
      "execution_count": 23,
      "outputs": [
        {
          "output_type": "stream",
          "text": [
            "[nltk_data] Downloading package punkt to /root/nltk_data...\n",
            "[nltk_data]   Package punkt is already up-to-date!\n"
          ],
          "name": "stdout"
        }
      ]
    },
    {
      "cell_type": "code",
      "metadata": {
        "id": "keRQV-lx0Phz",
        "colab": {
          "base_uri": "https://localhost:8080/"
        },
        "outputId": "b3dab387-9459-4502-c8d3-6c0da02b52d2"
      },
      "source": [
        "import numpy as np\n",
        "import pandas as pd\n",
        "from nltk.corpus import twitter_samples \n",
        "from nltk.corpus import stopwords \n",
        "nltk.download('twitter_samples')\n",
        "nltk.download('stopwords')"
      ],
      "execution_count": 24,
      "outputs": [
        {
          "output_type": "stream",
          "text": [
            "[nltk_data] Downloading package twitter_samples to /root/nltk_data...\n",
            "[nltk_data]   Package twitter_samples is already up-to-date!\n",
            "[nltk_data] Downloading package stopwords to /root/nltk_data...\n",
            "[nltk_data]   Package stopwords is already up-to-date!\n"
          ],
          "name": "stdout"
        },
        {
          "output_type": "execute_result",
          "data": {
            "text/plain": [
              "True"
            ]
          },
          "metadata": {
            "tags": []
          },
          "execution_count": 24
        }
      ]
    },
    {
      "cell_type": "code",
      "metadata": {
        "id": "wqmjgzaS0ZZo"
      },
      "source": [
        "positive_tweets = twitter_samples.strings('positive_tweets.json')\n",
        "negative_tweets = twitter_samples.strings('negative_tweets.json')"
      ],
      "execution_count": 25,
      "outputs": []
    },
    {
      "cell_type": "code",
      "metadata": {
        "id": "UmssnySR0dai",
        "colab": {
          "base_uri": "https://localhost:8080/"
        },
        "outputId": "c064db7a-0b62-4ad1-d5a7-f70db9cfb237"
      },
      "source": [
        "len(positive_tweets)"
      ],
      "execution_count": 26,
      "outputs": [
        {
          "output_type": "execute_result",
          "data": {
            "text/plain": [
              "5000"
            ]
          },
          "metadata": {
            "tags": []
          },
          "execution_count": 26
        }
      ]
    },
    {
      "cell_type": "code",
      "metadata": {
        "id": "K9z3p1Bl1Bk4"
      },
      "source": [
        "\n",
        "test_pos = positive_tweets[4000:]\n",
        "train_pos = positive_tweets[:4000]\n",
        "test_neg = negative_tweets[4000:]\n",
        "train_neg = negative_tweets[:4000]\n",
        "train_x = train_pos + train_neg \n",
        "test_x = test_pos + test_neg"
      ],
      "execution_count": 27,
      "outputs": []
    },
    {
      "cell_type": "code",
      "metadata": {
        "id": "cX9Vm1_J22L0",
        "colab": {
          "base_uri": "https://localhost:8080/"
        },
        "outputId": "4e75816a-cd5d-4e7e-c46a-56d0290017a5"
      },
      "source": [
        "len(train_x)"
      ],
      "execution_count": 28,
      "outputs": [
        {
          "output_type": "execute_result",
          "data": {
            "text/plain": [
              "8000"
            ]
          },
          "metadata": {
            "tags": []
          },
          "execution_count": 28
        }
      ]
    },
    {
      "cell_type": "code",
      "metadata": {
        "id": "dkddCO0l3DQw"
      },
      "source": [
        "train_y = np.append(np.ones((len(train_pos), 1)), np.zeros((len(train_neg), 1)), axis=0)\n",
        "test_y = np.append(np.ones((len(test_pos), 1)), np.zeros((len(test_neg), 1)), axis=0)"
      ],
      "execution_count": 29,
      "outputs": []
    },
    {
      "cell_type": "code",
      "metadata": {
        "id": "fx7yf5v14Pgz",
        "colab": {
          "base_uri": "https://localhost:8080/"
        },
        "outputId": "cb59b068-0b96-4fe1-d13e-9c2998f499c6"
      },
      "source": [
        "train_y"
      ],
      "execution_count": 30,
      "outputs": [
        {
          "output_type": "execute_result",
          "data": {
            "text/plain": [
              "array([[1.],\n",
              "       [1.],\n",
              "       [1.],\n",
              "       ...,\n",
              "       [0.],\n",
              "       [0.],\n",
              "       [0.]])"
            ]
          },
          "metadata": {
            "tags": []
          },
          "execution_count": 30
        }
      ]
    },
    {
      "cell_type": "code",
      "metadata": {
        "id": "7mOiiLTm4RGn"
      },
      "source": [
        "stemmer = PorterStemmer()\n",
        "def preprocess(tweet):\n",
        "  punc = '''!()-[]{};:'\"\\, <>./?@#$%^&*'''\n",
        "  tweet = re.sub(r'https?:\\/\\/.*[\\r\\n]*', '', tweet)\n",
        "  tweet = re.sub(r'#', '', tweet)\n",
        "  tokn_word = tknzr.tokenize(tweet)\n",
        "  stp_words = set(stopwords.words('english')) \n",
        "  out = []\n",
        "  for i in tokn_word:\n",
        "    if i not in stp_words and i not in punc:\n",
        "      j = stemmer.stem(i)\n",
        "      out.append(j)\n",
        "  return out\n"
      ],
      "execution_count": 31,
      "outputs": []
    },
    {
      "cell_type": "code",
      "metadata": {
        "id": "LY0l1Lkg7z1W",
        "colab": {
          "base_uri": "https://localhost:8080/"
        },
        "outputId": "c454b4bf-e777-4999-cb02-ad75ec7290dd"
      },
      "source": [
        "for i in range(len(train_x)):\n",
        "  train_x[i] = preprocess(train_x[i])\n",
        "print(train_x[0])"
      ],
      "execution_count": 32,
      "outputs": [
        {
          "output_type": "stream",
          "text": [
            "['followfriday', 'top', 'engag', 'member', 'commun', 'week', ':)']\n"
          ],
          "name": "stdout"
        }
      ]
    },
    {
      "cell_type": "code",
      "metadata": {
        "id": "nHgKM-rTIq4L"
      },
      "source": [
        "fre = {}\n",
        "def frequency(l):\n",
        "  freqs = {}\n",
        "  for i in range(4000):\n",
        "    for word in l[i]:\n",
        "      if (word,1) in freqs:\n",
        "        freqs[(word,1)] += 1\n",
        "      else:\n",
        "        freqs[(word,1)] = 1 \n",
        "  for i in range(4000,8000):\n",
        "    for word in l[i]:\n",
        "      if (word,0) in freqs:\n",
        "        freqs[(word,0)] += 1\n",
        "      else:\n",
        "        freqs[(word,0)] = 1 \n",
        "  return freqs\n",
        "fre = frequency(train_x)\n",
        "# print(fre)"
      ],
      "execution_count": null,
      "outputs": []
    },
    {
      "cell_type": "code",
      "metadata": {
        "id": "N1mTQYLKmmIC",
        "colab": {
          "base_uri": "https://localhost:8080/"
        },
        "outputId": "382af83c-2541-465a-e05e-9d987d0fae7c"
      },
      "source": [
        "def vec_for_model(fre,l):\n",
        "  x = []\n",
        "  for i in range(len(l)):\n",
        "    temp = []\n",
        "    temp.append(1)\n",
        "    pos_count = 0\n",
        "    neg_count = 0\n",
        "    for word in l[i]:\n",
        "      pos_count += fre.get((word,1),0)\n",
        "      neg_count += fre.get((word,0),0)\n",
        "    temp.append(pos_count/500)\n",
        "    temp.append(neg_count/500)\n",
        "    x.append(temp)\n",
        "  return x\n",
        "X = np.array(vec_for_model(fre,train_x))\n",
        "print(X[:10])\n",
        "print(X.shape)"
      ],
      "execution_count": 79,
      "outputs": [
        {
          "output_type": "stream",
          "text": [
            "[[1.000e+00 6.040e+00 1.220e-01]\n",
            " [1.000e+00 7.182e+00 9.240e-01]\n",
            " [1.000e+00 6.226e+00 4.380e-01]\n",
            " [1.000e+00 5.724e+00 8.000e-03]\n",
            " [1.000e+00 6.232e+00 4.480e-01]\n",
            " [1.000e+00 5.972e+00 3.140e-01]\n",
            " [1.000e+00 8.128e+00 1.224e+00]\n",
            " [1.000e+00 6.410e+00 6.580e-01]\n",
            " [1.000e+00 1.240e+00 3.660e-01]\n",
            " [1.000e+00 5.340e-01 2.340e-01]]\n",
            "(8000, 3)\n"
          ],
          "name": "stdout"
        }
      ]
    },
    {
      "cell_type": "code",
      "metadata": {
        "colab": {
          "base_uri": "https://localhost:8080/"
        },
        "id": "tSK6bH6duPSM",
        "outputId": "5b52fb20-c36c-467d-d913-3e4528be23ac"
      },
      "source": [
        "print(train_x[0])"
      ],
      "execution_count": 80,
      "outputs": [
        {
          "output_type": "stream",
          "text": [
            "['followfriday', 'top', 'engag', 'member', 'commun', 'week', ':)']\n"
          ],
          "name": "stdout"
        }
      ]
    },
    {
      "cell_type": "code",
      "metadata": {
        "id": "PS36Q2jg1M5q",
        "colab": {
          "base_uri": "https://localhost:8080/"
        },
        "outputId": "0fd5d253-861d-4ba2-b48c-06f16c23c2ef"
      },
      "source": [
        "\n",
        "def gradient(x,y,no_itr):\n",
        "  eta = 0.001\n",
        "  # wt = np.zeros((3,1))\n",
        "  wt = np.random.rand(3,1)\n",
        "  for i in range(no_itr):\n",
        "    z = np.dot(x,wt)\n",
        "    h = 1.0/(1 + np.exp(-1.0*z))\n",
        "    j=(-1/len(x))*(np.dot(y.T,np.log(h))+np.dot((1-𝐲).T,np.log(1-𝐡)))\n",
        "    wt=wt-(eta/len(x))*np.dot(𝐱.T,(𝐡-𝐲))\n",
        "    # print('z: ',z)\n",
        "    # print('h: ',h)\n",
        "    # print('j: ',j)\n",
        "    # print('wt: ',wt)\n",
        "  return j,wt\n",
        "\n",
        "\n",
        "cost,weights = gradient(X,train_y,1000)\n",
        "print(cost)\n",
        "print(weights)\n"
      ],
      "execution_count": 81,
      "outputs": [
        {
          "output_type": "stream",
          "text": [
            "[[0.11081009]]\n",
            "[[ 0.64142319]\n",
            " [ 0.65559983]\n",
            " [-0.51786451]]\n"
          ],
          "name": "stdout"
        }
      ]
    },
    {
      "cell_type": "code",
      "metadata": {
        "id": "hvxArsEi5iU8",
        "colab": {
          "base_uri": "https://localhost:8080/",
          "height": 87
        },
        "outputId": "6d7f81e7-90f0-4f34-8e3d-c7dd02a6f151"
      },
      "source": [
        "def pre_sentiment(tweet,weights,fre):\n",
        "  l = preprocess(tweet)\n",
        "  l1 = []\n",
        "  l1.append(l)\n",
        "  x = np.array(vec_for_model(fre,l1),dtype=np.float128)\n",
        "  z = np.dot(x,weights)\n",
        "  print(x)\n",
        "  print(z)\n",
        "  y_pr = 1/(1+np.exp(-z))\n",
        "  print(y_pr)\n",
        "  if y_pr >= 0.5 :\n",
        "    return 'Positive'\n",
        "  else:\n",
        "    return 'Negative'\n",
        "\n",
        "pre_sentiment('it is a very good movie',weights,fre)\n"
      ],
      "execution_count": 83,
      "outputs": [
        {
          "output_type": "stream",
          "text": [
            "[[1.    0.416 0.2  ]]\n",
            "[[0.81057982]]\n",
            "[[0.69223305]]\n"
          ],
          "name": "stdout"
        },
        {
          "output_type": "execute_result",
          "data": {
            "application/vnd.google.colaboratory.intrinsic+json": {
              "type": "string"
            },
            "text/plain": [
              "'Positive'"
            ]
          },
          "metadata": {
            "tags": []
          },
          "execution_count": 83
        }
      ]
    },
    {
      "cell_type": "code",
      "metadata": {
        "id": "tLZPb3XqHEqD"
      },
      "source": [
        ""
      ],
      "execution_count": null,
      "outputs": []
    }
  ]
}