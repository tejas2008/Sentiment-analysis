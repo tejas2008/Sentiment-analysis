{
  "nbformat": 4,
  "nbformat_minor": 0,
  "metadata": {
    "colab": {
      "name": "sentiment-logistic-regression.ipynb",
      "provenance": [],
      "collapsed_sections": [],
      "authorship_tag": "ABX9TyPElkCu3fO/MFYoacYWlcty",
      "include_colab_link": true
    },
    "kernelspec": {
      "name": "python3",
      "display_name": "Python 3"
    }
  },
  "cells": [
    {
      "cell_type": "markdown",
      "metadata": {
        "id": "view-in-github",
        "colab_type": "text"
      },
      "source": [
        "<a href=\"https://colab.research.google.com/github/tejas2008/Sentiment-analysis/blob/master/sentiment_logistic_regression.ipynb\" target=\"_parent\"><img src=\"https://colab.research.google.com/assets/colab-badge.svg\" alt=\"Open In Colab\"/></a>"
      ]
    },
    {
      "cell_type": "code",
      "metadata": {
        "id": "uRgeFA_qzBTi",
        "colab": {
          "base_uri": "https://localhost:8080/"
        },
        "outputId": "b7060240-da95-4e17-c8a9-0ad8181886f6"
      },
      "source": [
        "import nltk\n",
        "nltk.download('punkt')\n",
        "from nltk.tokenize import word_tokenize\n",
        "import re\n",
        "from nltk.tokenize import TweetTokenizer\n",
        "tknzr = TweetTokenizer(strip_handles=True)\n",
        "from nltk.stem import PorterStemmer "
      ],
      "execution_count": 2,
      "outputs": [
        {
          "output_type": "stream",
          "text": [
            "[nltk_data] Downloading package punkt to /root/nltk_data...\n",
            "[nltk_data]   Unzipping tokenizers/punkt.zip.\n"
          ],
          "name": "stdout"
        }
      ]
    },
    {
      "cell_type": "code",
      "metadata": {
        "id": "keRQV-lx0Phz",
        "colab": {
          "base_uri": "https://localhost:8080/"
        },
        "outputId": "aa2226f5-798b-46b0-9c96-e42d11961fa8"
      },
      "source": [
        "import numpy as np\n",
        "import pandas as pd\n",
        "from nltk.corpus import twitter_samples \n",
        "from nltk.corpus import stopwords \n",
        "nltk.download('twitter_samples')\n",
        "nltk.download('stopwords')"
      ],
      "execution_count": 3,
      "outputs": [
        {
          "output_type": "stream",
          "text": [
            "[nltk_data] Downloading package twitter_samples to /root/nltk_data...\n",
            "[nltk_data]   Unzipping corpora/twitter_samples.zip.\n",
            "[nltk_data] Downloading package stopwords to /root/nltk_data...\n",
            "[nltk_data]   Unzipping corpora/stopwords.zip.\n"
          ],
          "name": "stdout"
        },
        {
          "output_type": "execute_result",
          "data": {
            "text/plain": [
              "True"
            ]
          },
          "metadata": {
            "tags": []
          },
          "execution_count": 3
        }
      ]
    },
    {
      "cell_type": "code",
      "metadata": {
        "id": "wqmjgzaS0ZZo"
      },
      "source": [
        "positive_tweets = twitter_samples.strings('positive_tweets.json')\n",
        "negative_tweets = twitter_samples.strings('negative_tweets.json')"
      ],
      "execution_count": 4,
      "outputs": []
    },
    {
      "cell_type": "code",
      "metadata": {
        "id": "UmssnySR0dai",
        "colab": {
          "base_uri": "https://localhost:8080/"
        },
        "outputId": "50bac7f1-9b79-4a72-a19e-c186e47386a7"
      },
      "source": [
        "len(positive_tweets)"
      ],
      "execution_count": 5,
      "outputs": [
        {
          "output_type": "execute_result",
          "data": {
            "text/plain": [
              "5000"
            ]
          },
          "metadata": {
            "tags": []
          },
          "execution_count": 5
        }
      ]
    },
    {
      "cell_type": "code",
      "metadata": {
        "id": "K9z3p1Bl1Bk4"
      },
      "source": [
        "\n",
        "test_pos = positive_tweets[4000:]\n",
        "train_pos = positive_tweets[:4000]\n",
        "test_neg = negative_tweets[4000:]\n",
        "train_neg = negative_tweets[:4000]\n",
        "train_x = train_pos + train_neg \n",
        "test_x = test_pos + test_neg"
      ],
      "execution_count": 51,
      "outputs": []
    },
    {
      "cell_type": "code",
      "metadata": {
        "id": "cX9Vm1_J22L0",
        "colab": {
          "base_uri": "https://localhost:8080/"
        },
        "outputId": "61334868-ee60-467a-f212-5eafb3716921"
      },
      "source": [
        "len(train_x)"
      ],
      "execution_count": 7,
      "outputs": [
        {
          "output_type": "execute_result",
          "data": {
            "text/plain": [
              "8000"
            ]
          },
          "metadata": {
            "tags": []
          },
          "execution_count": 7
        }
      ]
    },
    {
      "cell_type": "code",
      "metadata": {
        "id": "dkddCO0l3DQw"
      },
      "source": [
        "train_y = np.append(np.ones((len(train_pos), 1)), np.zeros((len(train_neg), 1)), axis=0)\n",
        "test_y = np.append(np.ones((len(test_pos), 1)), np.zeros((len(test_neg), 1)), axis=0)"
      ],
      "execution_count": 8,
      "outputs": []
    },
    {
      "cell_type": "code",
      "metadata": {
        "id": "fx7yf5v14Pgz",
        "colab": {
          "base_uri": "https://localhost:8080/"
        },
        "outputId": "4f8dfb25-d0bb-41c9-d307-b8cee962d19c"
      },
      "source": [
        "train_y"
      ],
      "execution_count": 9,
      "outputs": [
        {
          "output_type": "execute_result",
          "data": {
            "text/plain": [
              "array([[1.],\n",
              "       [1.],\n",
              "       [1.],\n",
              "       ...,\n",
              "       [0.],\n",
              "       [0.],\n",
              "       [0.]])"
            ]
          },
          "metadata": {
            "tags": []
          },
          "execution_count": 9
        }
      ]
    },
    {
      "cell_type": "code",
      "metadata": {
        "id": "7mOiiLTm4RGn"
      },
      "source": [
        "stemmer = PorterStemmer()\n",
        "def preprocess(tweet):\n",
        "  punc = '''!()-[]{};:'\"\\, <>./?@#$%^&*'''\n",
        "  tweet = re.sub(r'https?:\\/\\/.*[\\r\\n]*', '', tweet)\n",
        "  tweet = re.sub(r'#', '', tweet)\n",
        "  tokn_word = tknzr.tokenize(tweet)\n",
        "  stp_words = set(stopwords.words('english')) \n",
        "  out = []\n",
        "  for i in tokn_word:\n",
        "    if i not in stp_words and i not in punc:\n",
        "      j = stemmer.stem(i)\n",
        "      out.append(j)\n",
        "  return out\n"
      ],
      "execution_count": 10,
      "outputs": []
    },
    {
      "cell_type": "code",
      "metadata": {
        "id": "LY0l1Lkg7z1W",
        "colab": {
          "base_uri": "https://localhost:8080/"
        },
        "outputId": "f749e3e8-c1aa-4310-f2cf-8eb62d6ccd9b"
      },
      "source": [
        "for i in range(len(train_x)):\n",
        "  train_x[i] = preprocess(train_x[i])\n",
        "print(train_x[0])"
      ],
      "execution_count": 12,
      "outputs": [
        {
          "output_type": "stream",
          "text": [
            "['followfriday', 'top', 'engag', 'member', 'commun', 'week', ':)']\n"
          ],
          "name": "stdout"
        }
      ]
    },
    {
      "cell_type": "code",
      "metadata": {
        "id": "nHgKM-rTIq4L"
      },
      "source": [
        "fre = {}\n",
        "def frequency(l):\n",
        "  freqs = {}\n",
        "  for i in range(4000):\n",
        "    for word in l[i]:\n",
        "      if (word,1) in freqs:\n",
        "        freqs[(word,1)] += 1\n",
        "      else:\n",
        "        freqs[(word,1)] = 1 \n",
        "  for i in range(4000,8000):\n",
        "    for word in l[i]:\n",
        "      if (word,0) in freqs:\n",
        "        freqs[(word,0)] += 1\n",
        "      else:\n",
        "        freqs[(word,0)] = 1 \n",
        "  return freqs\n",
        "fre = frequency(train_x)\n",
        "# print(fre)"
      ],
      "execution_count": 13,
      "outputs": []
    },
    {
      "cell_type": "code",
      "metadata": {
        "colab": {
          "base_uri": "https://localhost:8080/"
        },
        "id": "Bsi82tKqLp7a",
        "outputId": "7cf9cdbe-c9c9-4153-b483-f8a17c65c7c0"
      },
      "source": [
        "fre[('it',0)]"
      ],
      "execution_count": 36,
      "outputs": [
        {
          "output_type": "execute_result",
          "data": {
            "text/plain": [
              "17"
            ]
          },
          "metadata": {
            "tags": []
          },
          "execution_count": 36
        }
      ]
    },
    {
      "cell_type": "code",
      "metadata": {
        "id": "JxfJ0Z1ZLp27"
      },
      "source": [
        ""
      ],
      "execution_count": 34,
      "outputs": []
    },
    {
      "cell_type": "code",
      "metadata": {
        "id": "N1mTQYLKmmIC",
        "colab": {
          "base_uri": "https://localhost:8080/"
        },
        "outputId": "5a08534b-7616-4f82-cb9e-aa54872d1276"
      },
      "source": [
        "def vec_for_model(fre,l):\n",
        "  x = []\n",
        "  for i in range(len(l)):\n",
        "    temp = []\n",
        "    temp.append(1)\n",
        "    pos_count = 0\n",
        "    neg_count = 0\n",
        "    for word in l[i]:\n",
        "      pos_count += fre.get((word,1),0)\n",
        "      neg_count += fre.get((word,0),0)\n",
        "    temp.append(pos_count/100)\n",
        "    temp.append(neg_count/100)\n",
        "    x.append(temp)\n",
        "  return x\n",
        "X = np.array(vec_for_model(fre,train_x))\n",
        "print(X[:10])\n",
        "print(X.shape)"
      ],
      "execution_count": 38,
      "outputs": [
        {
          "output_type": "stream",
          "text": [
            "[[1.000e+00 3.020e+01 6.100e-01]\n",
            " [1.000e+00 3.591e+01 4.620e+00]\n",
            " [1.000e+00 3.113e+01 2.190e+00]\n",
            " [1.000e+00 2.862e+01 4.000e-02]\n",
            " [1.000e+00 3.116e+01 2.240e+00]\n",
            " [1.000e+00 2.986e+01 1.570e+00]\n",
            " [1.000e+00 4.064e+01 6.120e+00]\n",
            " [1.000e+00 3.205e+01 3.290e+00]\n",
            " [1.000e+00 6.200e+00 1.830e+00]\n",
            " [1.000e+00 2.670e+00 1.170e+00]]\n",
            "(8000, 3)\n"
          ],
          "name": "stdout"
        }
      ]
    },
    {
      "cell_type": "code",
      "metadata": {
        "colab": {
          "base_uri": "https://localhost:8080/"
        },
        "id": "tSK6bH6duPSM",
        "outputId": "3fdc89b0-7837-46c6-cba9-2dfce833c788"
      },
      "source": [
        "print(train_x[0])"
      ],
      "execution_count": 39,
      "outputs": [
        {
          "output_type": "stream",
          "text": [
            "['followfriday', 'top', 'engag', 'member', 'commun', 'week', ':)']\n"
          ],
          "name": "stdout"
        }
      ]
    },
    {
      "cell_type": "code",
      "metadata": {
        "id": "PS36Q2jg1M5q",
        "colab": {
          "base_uri": "https://localhost:8080/"
        },
        "outputId": "6c93ae19-a1f1-4ea5-d53a-36ac8c97033e"
      },
      "source": [
        "\n",
        "def gradient(x,y,no_itr):\n",
        "  eta = 0.001\n",
        "  wt = np.zeros((3,1))\n",
        "  # wt = np.random.rand(3,1)\n",
        "  for i in range(no_itr):\n",
        "    z = np.dot(x,wt)\n",
        "    h = 1.0/(1 + np.exp(-1.0*z))\n",
        "    j=(-1/len(x))*(np.dot(y.T,np.log(h))+np.dot((1-𝐲).T,np.log(1-𝐡)))\n",
        "    wt=wt-(eta/len(x))*np.dot(𝐱.T,(𝐡-𝐲))\n",
        "    # print('z: ',z)\n",
        "    # print('h: ',h)\n",
        "    # print('j: ',j)\n",
        "    # print('wt: ',wt)\n",
        "  return j,wt\n",
        "\n",
        "cost,weights = gradient(X,train_y,10)\n",
        "print(cost)\n",
        "print(weights)\n"
      ],
      "execution_count": 43,
      "outputs": [
        {
          "output_type": "stream",
          "text": [
            "[[0.30470152]]\n",
            "[[ 0.00051714]\n",
            " [ 0.04217543]\n",
            " [-0.045004  ]]\n"
          ],
          "name": "stdout"
        }
      ]
    },
    {
      "cell_type": "code",
      "metadata": {
        "id": "hvxArsEi5iU8",
        "colab": {
          "base_uri": "https://localhost:8080/",
          "height": 35
        },
        "outputId": "26b8fe07-6a6b-461d-9788-69054d643919"
      },
      "source": [
        "def pre_sentiment(tweet,weights,fre):\n",
        "  l = preprocess(tweet)\n",
        "  l1 = []\n",
        "  l1.append(l)\n",
        "  x = np.array(vec_for_model(fre,l1),dtype=np.float128)\n",
        "  z = np.dot(x,weights)\n",
        "  # print(x)\n",
        "  # print(z)\n",
        "  y_pr = 1/(1+np.exp(-z))\n",
        "  # print(y_pr)\n",
        "  if y_pr >= 0.5 :\n",
        "    return 'Positive'\n",
        "  else:\n",
        "    return 'Negative'\n",
        "\n",
        "pre_sentiment('bad tweet',weights,fre)\n"
      ],
      "execution_count": 54,
      "outputs": [
        {
          "output_type": "execute_result",
          "data": {
            "application/vnd.google.colaboratory.intrinsic+json": {
              "type": "string"
            },
            "text/plain": [
              "'Negative'"
            ]
          },
          "metadata": {
            "tags": []
          },
          "execution_count": 54
        }
      ]
    },
    {
      "cell_type": "code",
      "metadata": {
        "id": "tLZPb3XqHEqD",
        "colab": {
          "base_uri": "https://localhost:8080/",
          "height": 35
        },
        "outputId": "3962e625-0164-4964-ff90-01b21b7ce5a0"
      },
      "source": [
        "pre_sentiment('bad movie',weights,fre)"
      ],
      "execution_count": 55,
      "outputs": [
        {
          "output_type": "execute_result",
          "data": {
            "application/vnd.google.colaboratory.intrinsic+json": {
              "type": "string"
            },
            "text/plain": [
              "'Negative'"
            ]
          },
          "metadata": {
            "tags": []
          },
          "execution_count": 55
        }
      ]
    },
    {
      "cell_type": "code",
      "metadata": {
        "colab": {
          "base_uri": "https://localhost:8080/"
        },
        "id": "u_QMBE22NB5o",
        "outputId": "c390fe95-2bcd-41e9-efb5-15b2b1049523"
      },
      "source": [
        "predictions = []\r\n",
        "for i in range(len(test_x)):\r\n",
        "  p = pre_sentiment(test_x[i],weights,fre)\r\n",
        "  if p == 'Negative' :\r\n",
        "    predictions.append(0.from_bytes)\r\n",
        "  else:\r\n",
        "    predictions.append(1.)\r\n",
        "print(predictions[:10])\r\n",
        "print(test_y[:10])"
      ],
      "execution_count": 57,
      "outputs": [
        {
          "output_type": "stream",
          "text": [
            "[1.0, 1.0, 1.0, 1.0, 1.0, 1.0, 1.0, 1.0, 1.0, 1.0]\n",
            "[[1.]\n",
            " [1.]\n",
            " [1.]\n",
            " [1.]\n",
            " [1.]\n",
            " [1.]\n",
            " [1.]\n",
            " [1.]\n",
            " [1.]\n",
            " [1.]]\n"
          ],
          "name": "stdout"
        }
      ]
    },
    {
      "cell_type": "code",
      "metadata": {
        "colab": {
          "base_uri": "https://localhost:8080/"
        },
        "id": "X2F9RvPuN1Ne",
        "outputId": "547d9107-c65d-4755-9729-3726535265e2"
      },
      "source": [
        "c = 0\r\n",
        "for i in range(len(predictions)):\r\n",
        "  if predictions[i] == test_y[i][0]:\r\n",
        "    c += 1\r\n",
        "print('Accuracy on testing data: ',(c/len(predictions)*100))\r\n"
      ],
      "execution_count": 65,
      "outputs": [
        {
          "output_type": "stream",
          "text": [
            "Accuracy on testing data:  97.39999999999999\n"
          ],
          "name": "stdout"
        }
      ]
    },
    {
      "cell_type": "code",
      "metadata": {
        "id": "2qdWgVPUO0C5"
      },
      "source": [
        ""
      ],
      "execution_count": null,
      "outputs": []
    }
  ]
}